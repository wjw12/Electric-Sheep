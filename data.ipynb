{
 "nbformat": 4,
 "nbformat_minor": 2,
 "metadata": {
  "language_info": {
   "name": "python",
   "codemirror_mode": {
    "name": "ipython",
    "version": 3
   }
  },
  "orig_nbformat": 2,
  "file_extension": ".py",
  "mimetype": "text/x-python",
  "name": "python",
  "npconvert_exporter": "python",
  "pygments_lexer": "ipython3",
  "version": 3
 },
 "cells": [
  {
   "cell_type": "code",
   "execution_count": null,
   "metadata": {},
   "outputs": [
    {
     "ename": "Error",
     "evalue": "Failed to connect to remote Jupyter notebook.\r\nCheck that the Jupyter Server URI setting has a valid running server specified.\r\nhttp://localhost:8889/\r\nTypeError: request to http://localhost:8889/api/contents/?1582505284428 failed, reason: connect ECONNREFUSED 127.0.0.1:8889",
     "output_type": "error",
     "traceback": [
      "Error: Failed to connect to remote Jupyter notebook.",
      "Check that the Jupyter Server URI setting has a valid running server specified.",
      "http://localhost:8889/",
      "TypeError: request to http://localhost:8889/api/contents/?1582505284428 failed, reason: connect ECONNREFUSED 127.0.0.1:8889",
      "at c:\\Users\\wangj\\.vscode\\extensions\\ms-python.python-2020.2.63072\\out\\client\\extension.js:1:812550",
      "at runMicrotasks (<anonymous>)",
      "at processTicksAndRejections (internal/process/task_queues.js:89:5)"
     ]
    }
   ],
   "source": [
    "import urllib.request, urllib.error, urllib.parse\n",
    "\n",
    "url = 'http://tobib.spline.de/sheep/data/10000'\n",
    "\n",
    "response = urllib.request.urlopen(url)\n",
    "webContent = response.read()\n",
    "\n",
    "print(webContent)"
   ]
  },
  {
   "cell_type": "code",
   "execution_count": null,
   "metadata": {},
   "outputs": [
    {
     "ename": "Error",
     "evalue": "Failed to connect to remote Jupyter notebook.\r\nCheck that the Jupyter Server URI setting has a valid running server specified.\r\nhttp://localhost:8889/\r\nTypeError: request to http://localhost:8889/api/contents/?1582505317189 failed, reason: connect ECONNREFUSED 127.0.0.1:8889",
     "output_type": "error",
     "traceback": [
      "Error: Failed to connect to remote Jupyter notebook.",
      "Check that the Jupyter Server URI setting has a valid running server specified.",
      "http://localhost:8889/",
      "TypeError: request to http://localhost:8889/api/contents/?1582505317189 failed, reason: connect ECONNREFUSED 127.0.0.1:8889",
      "at c:\\Users\\wangj\\.vscode\\extensions\\ms-python.python-2020.2.63072\\out\\client\\extension.js:1:812550",
      "at runMicrotasks (<anonymous>)",
      "at processTicksAndRejections (internal/process/task_queues.js:89:5)"
     ]
    }
   ],
   "source": [
    "%pwd"
   ]
  }
 ]
}